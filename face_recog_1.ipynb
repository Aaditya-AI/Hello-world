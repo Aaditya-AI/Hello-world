{
 "cells": [
  {
   "cell_type": "code",
   "execution_count": 164,
   "id": "outdoor-gardening",
   "metadata": {},
   "outputs": [],
   "source": [
    "import cv2 \n",
    "import os \n",
    "import numpy as np\n",
    "import matplotlib.pyplot as plt\n",
    "import argparse"
   ]
  },
  {
   "cell_type": "code",
   "execution_count": 13,
   "id": "unavailable-launch",
   "metadata": {},
   "outputs": [],
   "source": [
    "path = \"./photos\"\n",
    "img_path = []\n",
    "img_name = []\n",
    "for image_folder in os.listdir(path):\n",
    "    for image_file in os.listdir(path+\"/\"+image_folder):\n",
    "        img_path.append(path+\"/\"+image_folder+'/'+image_file)\n",
    "        img_name.append(image_file)"
   ]
  },
  {
   "cell_type": "code",
   "execution_count": 22,
   "id": "representative-share",
   "metadata": {},
   "outputs": [
    {
     "data": {
      "text/plain": [
       "'./photos/Mitesh sample picture/A004_10.jpg'"
      ]
     },
     "execution_count": 22,
     "metadata": {},
     "output_type": "execute_result"
    }
   ],
   "source": [
    "img_path[1]"
   ]
  },
  {
   "cell_type": "code",
   "execution_count": 23,
   "id": "rural-russian",
   "metadata": {},
   "outputs": [],
   "source": [
    "def face_extracter(image_path):\n",
    "    \"\"\"\n",
    "    Crops face from image\n",
    "    image_path: path of the img as string eg: './abc/xyz/image.jpg'\n",
    "    \n",
    "    \"\"\"\n",
    "    # Read the input image \n",
    "    img = cv2.imread(image_path) \n",
    "\n",
    "    # Convert into grayscale \n",
    "    gray = cv2.cvtColor(img, cv2.COLOR_BGR2GRAY) \n",
    "\n",
    "    # Load the cascade \n",
    "    face_cascade = cv2.CascadeClassifier('haarcascade_frontalface_alt2.xml') \n",
    "\n",
    "    # Detect faces \n",
    "    faces = face_cascade.detectMultiScale(gray, 1.1, 4) \n",
    "\n",
    "    # Draw rectangle around the faces and crop the faces \n",
    "    for (x, y, w, h) in faces: \n",
    "        #cv2.rectangle(img, (x, y), (x+w, y+h), (0, 0, 255), 2) \n",
    "        faces = img[y:y + h, x:x + w]\n",
    "    return faces\n",
    "    "
   ]
  },
  {
   "cell_type": "code",
   "execution_count": 24,
   "id": "artificial-difficulty",
   "metadata": {},
   "outputs": [
    {
     "data": {
      "text/plain": [
       "-1"
      ]
     },
     "execution_count": 24,
     "metadata": {},
     "output_type": "execute_result"
    }
   ],
   "source": [
    "cv2.imshow(\"img\",face_extracter(img_path[0]))\n",
    "cv2.waitKey(0)"
   ]
  },
  {
   "cell_type": "code",
   "execution_count": 25,
   "id": "threaded-divorce",
   "metadata": {},
   "outputs": [],
   "source": [
    "face_labels=[]\n",
    "#for i,j in zip(range(len(img_path)),img_name):\n",
    "for i in range(len(img_path)):\n",
    "    face = face_extracter(img_path[i])\n",
    "    try:\n",
    "        cv2.imwrite(\"./faces/\"+img_name[i]+'.jpg', face)\n",
    "        face_labels.append(img_name[i][:4])\n",
    "    except:\n",
    "        continue\n",
    "face_labels = np.array(face_labels)"
   ]
  },
  {
   "cell_type": "code",
   "execution_count": 26,
   "id": "active-lighter",
   "metadata": {},
   "outputs": [
    {
     "data": {
      "text/plain": [
       "(34,)"
      ]
     },
     "execution_count": 26,
     "metadata": {},
     "output_type": "execute_result"
    }
   ],
   "source": [
    "face_labels.shape"
   ]
  },
  {
   "cell_type": "code",
   "execution_count": null,
   "id": "structured-fight",
   "metadata": {},
   "outputs": [],
   "source": [
    "# face_labels=[]\n",
    "# for i,j in zip(range(len(img_path)),img_name):\n",
    "\n",
    "#     # Read the input image \n",
    "#     img = cv2.imread(img_path[i]) \n",
    "\n",
    "#     # Convert into grayscale \n",
    "#     gray = cv2.cvtColor(img, cv2.COLOR_BGR2GRAY) \n",
    "\n",
    "#     # Load the cascade \n",
    "#     face_cascade = cv2.CascadeClassifier('haarcascade_frontalface_alt2.xml') \n",
    "\n",
    "#     # Detect faces \n",
    "#     faces = face_cascade.detectMultiScale(gray, 1.1, 4) \n",
    "#     # Draw rectangle around the faces and crop the faces \n",
    "#     for (x, y, w, h) in faces: \n",
    "#         cv2.rectangle(img, (x, y), (x+w, y+h), (0, 0, 255), 2) \n",
    "#         faces = img[y:y + h, x:x + w]\n",
    "#         #cv2.imshow(\"face\",faces) \n",
    "#         cv2.imwrite(\"./faces/\"+img_name[i]+'.jpg', faces)\n",
    "#         face_labels.append(img_name[i][:4])\n",
    "# face_labels = np.array(face_labels)\n",
    "#     # Display the output \n",
    "#     # cv2.imwrite('detcted.jpg', img) \n",
    "#     # cv2.imshow('img', img) \n",
    "#     # cv2.waitKey()"
   ]
  },
  {
   "cell_type": "code",
   "execution_count": 32,
   "id": "selected-manitoba",
   "metadata": {},
   "outputs": [],
   "source": [
    "def img_preprocessor(image_path):\n",
    "    img = cv2.imread(image_path)\n",
    "    img = cv2.cvtColor(img,cv2.COLOR_BGR2GRAY)\n",
    "    # resize image 64x64\n",
    "    width = 64\n",
    "    height = 64\n",
    "    dim = (width, height)\n",
    "    resized = cv2.resize(img, dim, interpolation = cv2.INTER_AREA)\n",
    "    return resized\n",
    "\n",
    "faces_list = []\n",
    "for croped_face in os.listdir('./faces'):\n",
    "    resized = img_preprocessor('./faces/'+croped_face)\n",
    "    faces_list.append(resized)\n",
    "face_arr = np.array(faces_list)\n"
   ]
  },
  {
   "cell_type": "code",
   "execution_count": 34,
   "id": "driven-sodium",
   "metadata": {},
   "outputs": [
    {
     "data": {
      "text/plain": [
       "(34, 64, 64)"
      ]
     },
     "execution_count": 34,
     "metadata": {},
     "output_type": "execute_result"
    }
   ],
   "source": [
    "face_arr.shape"
   ]
  },
  {
   "cell_type": "code",
   "execution_count": 33,
   "id": "expected-astrology",
   "metadata": {},
   "outputs": [
    {
     "data": {
      "text/plain": [
       "-1"
      ]
     },
     "execution_count": 33,
     "metadata": {},
     "output_type": "execute_result"
    }
   ],
   "source": [
    "# faces_list = []\n",
    "# for croped_face in os.listdir('./faces'):\n",
    "#     img = cv2.imread('./faces/'+croped_face)\n",
    "#     img = cv2.cvtColor(img,cv2.COLOR_BGR2GRAY)\n",
    "#     # resize image\n",
    "#     width = 64\n",
    "#     height = 64\n",
    "#     dim = (width, height)\n",
    "#     resized = cv2.resize(img, dim, interpolation = cv2.INTER_AREA)\n",
    "\n",
    "#     faces_list.append(resized)\n",
    "# face_arr = np.array(faces_list)\n",
    "#img = cv2.imread(img_path[0])\n",
    "cv2.imshow('img',face_arr[0])\n",
    "cv2.waitKey(0)"
   ]
  },
  {
   "cell_type": "markdown",
   "id": "meaningful-rubber",
   "metadata": {},
   "source": [
    "# Training "
   ]
  },
  {
   "cell_type": "code",
   "execution_count": 39,
   "id": "structured-provincial",
   "metadata": {},
   "outputs": [
    {
     "name": "stdout",
     "output_type": "stream",
     "text": [
      "After reshape: (34, 4096)\n"
     ]
    }
   ],
   "source": [
    "x=face_arr.reshape((face_arr.shape[0],face_arr.shape[1]*face_arr.shape[2]))\n",
    "print(\"After reshape:\",x.shape)"
   ]
  },
  {
   "cell_type": "code",
   "execution_count": 40,
   "id": "ethical-question",
   "metadata": {},
   "outputs": [
    {
     "name": "stdout",
     "output_type": "stream",
     "text": [
      "x_train shape: (27, 4096)\n",
      "y_train shape:(27,)\n"
     ]
    }
   ],
   "source": [
    "from sklearn.model_selection import train_test_split\n",
    "x_train, x_test, y_train, y_test=train_test_split(x, face_labels, test_size=0.20, stratify=face_labels, random_state=0)\n",
    "print(\"x_train shape:\",x_train.shape)\n",
    "print(\"y_train shape:{}\".format(y_train.shape))"
   ]
  },
  {
   "cell_type": "code",
   "execution_count": 43,
   "id": "compressed-client",
   "metadata": {},
   "outputs": [
    {
     "data": {
      "image/png": "[encoded data removed]",
      "text/plain": [
       "<Figure size 1440x720 with 1 Axes>"
      ]
     },
     "metadata": {
      "needs_background": "light"
     },
     "output_type": "display_data"
    }
   ],
   "source": [
    "from sklearn.decomposition import PCA\n",
    "pca=PCA()\n",
    "pca.fit(x)\n",
    "\n",
    "plt.figure(1, figsize=(20,10))\n",
    "\n",
    "plt.plot(pca.explained_variance_, linewidth=2)\n",
    " \n",
    "plt.xlabel('Components')\n",
    "plt.ylabel('Explained Variaces')\n",
    "plt.show()\n"
   ]
  },
  {
   "cell_type": "code",
   "execution_count": 44,
   "id": "occupied-strap",
   "metadata": {},
   "outputs": [
    {
     "data": {
      "text/plain": [
       "PCA(n_components=3, whiten=True)"
      ]
     },
     "execution_count": 44,
     "metadata": {},
     "output_type": "execute_result"
    }
   ],
   "source": [
    "pca=PCA(n_components=3, whiten=True)\n",
    "pca.fit(x)"
   ]
  },
  {
   "cell_type": "code",
   "execution_count": 45,
   "id": "north-precipitation",
   "metadata": {},
   "outputs": [
    {
     "data": {
      "text/plain": [
       "Text(0.5, 1.0, 'Average Face')"
      ]
     },
     "execution_count": 45,
     "metadata": {},
     "output_type": "execute_result"
    },
    {
     "data": {
      "image/png": "[encoded data removed]",
      "text/plain": [
       "<Figure size 576x576 with 1 Axes>"
      ]
     },
     "metadata": {},
     "output_type": "display_data"
    }
   ],
   "source": [
    "fig,ax=plt.subplots(1,1,figsize=(8,8))\n",
    "ax.imshow(pca.mean_.reshape((64,64)), cmap=\"gray\")\n",
    "ax.set_xticks([])\n",
    "ax.set_yticks([])\n",
    "ax.set_title('Average Face')"
   ]
  },
  {
   "cell_type": "code",
   "execution_count": 46,
   "id": "recognized-brook",
   "metadata": {
    "collapsed": true
   },
   "outputs": [
    {
     "data": {
      "text/plain": [
       "Text(0.5, 0.98, 'All Eigen Faces')"
      ]
     },
     "execution_count": 46,
     "metadata": {},
     "output_type": "execute_result"
    },
    {
     "data": {
      "image/png": "[encoded data removed]",
      "text/plain": [
       "<Figure size 1080x2880 with 3 Axes>"
      ]
     },
     "metadata": {},
     "output_type": "display_data"
    }
   ],
   "source": [
    "number_of_eigenfaces=len(pca.components_)\n",
    "eigen_faces=pca.components_.reshape((number_of_eigenfaces, face_arr.shape[1], face_arr.shape[2]))\n",
    "\n",
    "cols=3\n",
    "rows=int(number_of_eigenfaces/cols)\n",
    "fig, axarr=plt.subplots(nrows=rows, ncols=cols, figsize=(15,40))\n",
    "axarr=axarr.flatten()\n",
    "for i in range(number_of_eigenfaces):\n",
    "    axarr[i].imshow(eigen_faces[i],cmap=\"gray\")\n",
    "    axarr[i].set_xticks([])\n",
    "    axarr[i].set_yticks([])\n",
    "    axarr[i].set_title(\"eigen id:{}\".format(i))\n",
    "plt.suptitle(\"All Eigen Faces\".format(10*\"=\", 10*\"=\"))"
   ]
  },
  {
   "cell_type": "code",
   "execution_count": 47,
   "id": "changing-junction",
   "metadata": {},
   "outputs": [
    {
     "name": "stdout",
     "output_type": "stream",
     "text": [
      "Shape before (27, 4096) vs shape after (27, 3)\n"
     ]
    }
   ],
   "source": [
    "x_train_pca=pca.transform(x_train)\n",
    "x_test_pca=pca.transform(x_test)\n",
    "print(f\"Shape before {x_train.shape} vs shape after {x_train_pca.shape}\")"
   ]
  },
  {
   "cell_type": "code",
   "execution_count": 48,
   "id": "incorporate-fancy",
   "metadata": {},
   "outputs": [
    {
     "name": "stdout",
     "output_type": "stream",
     "text": [
      "PM_accuracy is % 100.0\n",
      "Accuracy is % 1.0\n"
     ]
    }
   ],
   "source": [
    "from sklearn.linear_model import LogisticRegression\n",
    "from sklearn import metrics\n",
    "from sklearn.metrics import accuracy_score,precision_score\n",
    "\n",
    "clf = LogisticRegression()\n",
    "clf.fit(x_train_pca, y_train)\n",
    "y_pred = clf.predict(x_test_pca)\n",
    "\n",
    "#print(\"Accuracy score:{:.2f}\".format(metrics.accuracy_score(y_test, y_pred)))\n",
    "\n",
    "PM_accuracy = round(clf.score(x_test_pca, y_test)*100,2)\n",
    "acc = accuracy_score(y_pred,y_test)\n",
    "\n",
    "print(\"PM_accuracy is %\", PM_accuracy)\n",
    "print(\"Accuracy is %\", acc)"
   ]
  },
  {
   "cell_type": "markdown",
   "id": "shaped-agent",
   "metadata": {},
   "source": [
    "# Using transfer learning"
   ]
  },
  {
   "cell_type": "code",
   "execution_count": 37,
   "id": "fabulous-sound",
   "metadata": {
    "scrolled": true
   },
   "outputs": [],
   "source": [
    "import pickle\n",
    "pca_tl = pickle.load(open(\"pca.sav\",'rb'))\n",
    "clf_tl = pickle.load(open(\"logistic_clf.sav\",'rb'))"
   ]
  },
  {
   "cell_type": "code",
   "execution_count": 38,
   "id": "local-wound",
   "metadata": {},
   "outputs": [
    {
     "ename": "NameError",
     "evalue": "name 'x_train' is not defined",
     "output_type": "error",
     "traceback": [
      "\u001b[1;31m---------------------------------------------------------------------------\u001b[0m",
      "\u001b[1;31mNameError\u001b[0m                                 Traceback (most recent call last)",
      "\u001b[1;32m<ipython-input-38-36a4779c7833>\u001b[0m in \u001b[0;36m<module>\u001b[1;34m\u001b[0m\n\u001b[1;32m----> 1\u001b[1;33m \u001b[0mx_train_pca\u001b[0m\u001b[1;33m=\u001b[0m\u001b[0mpca_tl\u001b[0m\u001b[1;33m.\u001b[0m\u001b[0mtransform\u001b[0m\u001b[1;33m(\u001b[0m\u001b[0mx_train\u001b[0m\u001b[1;33m)\u001b[0m\u001b[1;33m\u001b[0m\u001b[1;33m\u001b[0m\u001b[0m\n\u001b[0m\u001b[0;32m      2\u001b[0m \u001b[0mx_test_pca\u001b[0m\u001b[1;33m=\u001b[0m\u001b[0mpca_tl\u001b[0m\u001b[1;33m.\u001b[0m\u001b[0mtransform\u001b[0m\u001b[1;33m(\u001b[0m\u001b[0mx_test\u001b[0m\u001b[1;33m)\u001b[0m\u001b[1;33m\u001b[0m\u001b[1;33m\u001b[0m\u001b[0m\n\u001b[0;32m      3\u001b[0m \u001b[0mprint\u001b[0m\u001b[1;33m(\u001b[0m\u001b[1;34mf\"Shape before {x_train.shape} vs shape after {x_train_pca.shape}\"\u001b[0m\u001b[1;33m)\u001b[0m\u001b[1;33m\u001b[0m\u001b[1;33m\u001b[0m\u001b[0m\n",
      "\u001b[1;31mNameError\u001b[0m: name 'x_train' is not defined"
     ]
    }
   ],
   "source": [
    "x_train_pca=pca_tl.transform(x_train)\n",
    "x_test_pca=pca_tl.transform(x_test)\n",
    "print(f\"Shape before {x_train.shape} vs shape after {x_train_pca.shape}\")"
   ]
  },
  {
   "cell_type": "code",
   "execution_count": null,
   "id": "three-constitution",
   "metadata": {},
   "outputs": [],
   "source": [
    "x_train_pca.shape,x_test_pca.shape,y_train.shape\n"
   ]
  },
  {
   "cell_type": "code",
   "execution_count": null,
   "id": "norwegian-contrast",
   "metadata": {},
   "outputs": [],
   "source": [
    "from sklearn.linear_model import LogisticRegression\n",
    "from sklearn import metrics\n",
    "\n",
    "clf = clf_tl\n",
    "clf.fit(x_train_pca, y_train)\n",
    "y_pred_tl = clf.predict(x_test_pca)\n",
    "\n",
    "#print(\"Accuracy score:{:.2f}\".format(metrics.accuracy_score(y_test, y_pred)))\n",
    "\n",
    "PM_accuracy = round(clf.score(x_test_pca, y_test)*100,2)\n",
    "\n",
    "print(\"PM_accuracy is %\", PM_accuracy)"
   ]
  },
  {
   "cell_type": "code",
   "execution_count": null,
   "id": "chief-television",
   "metadata": {},
   "outputs": [],
   "source": [
    "y_pred_tl"
   ]
  },
  {
   "cell_type": "markdown",
   "id": "senior-hebrew",
   "metadata": {},
   "source": [
    "# Real Testing"
   ]
  },
  {
   "cell_type": "code",
   "execution_count": 153,
   "id": "absent-passion",
   "metadata": {},
   "outputs": [
    {
     "data": {
      "text/plain": [
       "-1"
      ]
     },
     "execution_count": 153,
     "metadata": {},
     "output_type": "execute_result"
    }
   ],
   "source": [
    "person_img = \"A027_2.jpg\"\n",
    "test_img = cv2.imread(\"E:/Python/Sam_facedetection/Test Data/\"+person_img)\n",
    "gray = cv2.cvtColor(test_img, cv2.COLOR_BGR2GRAY)\n",
    "gray = cv2.equalizeHist(gray)\n",
    "cv2.imshow('img',gray)\n",
    "cv2.waitKey(0)"
   ]
  },
  {
   "cell_type": "code",
   "execution_count": 156,
   "id": "cutting-change",
   "metadata": {},
   "outputs": [],
   "source": [
    "face_cascade = cv2.CascadeClassifier('haarcascade_frontalface_alt2.xml')\n",
    "# Detect faces \n",
    "faces = face_cascade.detectMultiScale(gray, 1.1, 4)\n",
    "faces = np.reshape(faces[0],(1,4))\n",
    "# crop the faces \n",
    "for (x, y, w, h) in faces:\n",
    "    cv2.rectangle(test_img, (x, y), (x+w, y+h), (0, 0, 255), 2)\n",
    "    #faces = test_img[y:y + h, x:x + w]\n",
    "    cv2.imshow(\"face\",test_img)\n",
    "    cv2.waitKey(0)\n",
    "    cv2.destroyAllWindows()"
   ]
  },
  {
   "cell_type": "code",
   "execution_count": 157,
   "id": "center-transparency",
   "metadata": {},
   "outputs": [
    {
     "name": "stdout",
     "output_type": "stream",
     "text": [
      "After reshape: (1, 4096)\n"
     ]
    }
   ],
   "source": [
    "face_cascade = cv2.CascadeClassifier('haarcascade_frontalface_alt2.xml')\n",
    "# Detect faces \n",
    "faces = face_cascade.detectMultiScale(gray, 1.1, 4)\n",
    "faces = np.reshape(faces[0],(1,4))\n",
    "# crop the faces \n",
    "for (x, y, w, h) in faces:\n",
    "    cv2.rectangle(test_img, (x, y), (x+w, y+h), (0, 0, 255), 2)\n",
    "    faces = test_img[y:y + h, x:x + w]\n",
    "    #cv2.imshow(\"face\",faces)\n",
    "    cv2.imwrite(\"./TestFaces/\"+person_img, faces)\n",
    "#img = cv2.imread('./faces/'+croped_face)\n",
    "img = cv2.cvtColor(faces,cv2.COLOR_BGR2GRAY)\n",
    "# resize image\n",
    "width = 64\n",
    "height = 64\n",
    "dim = (width, height)\n",
    "resized = cv2.resize(img, dim, interpolation = cv2.INTER_AREA)\n",
    "resized_arr = np.array([resized])\n",
    "test_face=resized.reshape((resized_arr.shape[0],64*64))\n",
    "print(\"After reshape:\",test_face.shape)"
   ]
  },
  {
   "cell_type": "code",
   "execution_count": 158,
   "id": "detected-handy",
   "metadata": {},
   "outputs": [],
   "source": [
    "cv2.imshow('img',resized)\n",
    "cv2.waitKey(0)\n",
    "cv2.destroyAllWindows()"
   ]
  },
  {
   "cell_type": "code",
   "execution_count": 159,
   "id": "derived-auditor",
   "metadata": {},
   "outputs": [
    {
     "data": {
      "text/plain": [
       "array(['A027'], dtype='<U4')"
      ]
     },
     "execution_count": 159,
     "metadata": {},
     "output_type": "execute_result"
    }
   ],
   "source": [
    "test_face_tfd = pca.transform(test_face)\n",
    "clf.predict(test_face_tfd)"
   ]
  },
  {
   "cell_type": "code",
   "execution_count": 160,
   "id": "miniature-nancy",
   "metadata": {},
   "outputs": [
    {
     "data": {
      "text/plain": [
       "array(['A004', 'A020', 'A027'], dtype='<U4')"
      ]
     },
     "execution_count": 160,
     "metadata": {},
     "output_type": "execute_result"
    }
   ],
   "source": [
    "clf.classes_"
   ]
  },
  {
   "cell_type": "code",
   "execution_count": 165,
   "id": "dried-brick",
   "metadata": {},
   "outputs": [
    {
     "ename": "NameError",
     "evalue": "name 'args' is not defined",
     "output_type": "error",
     "traceback": [
      "\u001b[1;31m---------------------------------------------------------------------------\u001b[0m",
      "\u001b[1;31mNameError\u001b[0m                                 Traceback (most recent call last)",
      "\u001b[1;32m<ipython-input-165-8eb52eda1c64>\u001b[0m in \u001b[0;36m<module>\u001b[1;34m\u001b[0m\n\u001b[1;32m----> 1\u001b[1;33m \u001b[0mcamera_device\u001b[0m \u001b[1;33m=\u001b[0m \u001b[0margs\u001b[0m\u001b[1;33m.\u001b[0m\u001b[0mcamera\u001b[0m\u001b[1;33m\u001b[0m\u001b[1;33m\u001b[0m\u001b[0m\n\u001b[0m\u001b[0;32m      2\u001b[0m \u001b[1;31m#-- 2. Read the video stream\u001b[0m\u001b[1;33m\u001b[0m\u001b[1;33m\u001b[0m\u001b[1;33m\u001b[0m\u001b[0m\n\u001b[0;32m      3\u001b[0m \u001b[0mcap\u001b[0m \u001b[1;33m=\u001b[0m \u001b[0mcv2\u001b[0m\u001b[1;33m.\u001b[0m\u001b[0mVideoCapture\u001b[0m\u001b[1;33m(\u001b[0m\u001b[0mcamera_device\u001b[0m\u001b[1;33m)\u001b[0m\u001b[1;33m\u001b[0m\u001b[1;33m\u001b[0m\u001b[0m\n\u001b[0;32m      4\u001b[0m \u001b[1;32mif\u001b[0m \u001b[1;32mnot\u001b[0m \u001b[0mcap\u001b[0m\u001b[1;33m.\u001b[0m\u001b[0misOpened\u001b[0m\u001b[1;33m:\u001b[0m\u001b[1;33m\u001b[0m\u001b[1;33m\u001b[0m\u001b[0m\n\u001b[0;32m      5\u001b[0m     \u001b[0mprint\u001b[0m\u001b[1;33m(\u001b[0m\u001b[1;34m'--(!)Error opening video capture'\u001b[0m\u001b[1;33m)\u001b[0m\u001b[1;33m\u001b[0m\u001b[1;33m\u001b[0m\u001b[0m\n",
      "\u001b[1;31mNameError\u001b[0m: name 'args' is not defined"
     ]
    }
   ],
   "source": [
    "camera_device = args.camera\n",
    "#-- 2. Read the video stream\n",
    "cap = cv2.VideoCapture(camera_device)\n",
    "if not cap.isOpened:\n",
    "    print('--(!)Error opening video capture')\n",
    "    exit(0)\n",
    "while True:\n",
    "    ret, frame = cap.read()\n",
    "    if frame is None:\n",
    "        print('--(!) No captured frame -- Break!')\n",
    "        break\n",
    "    detectAndDisplay(frame)\n",
    "    if cv2.waitKey(10) == 27:\n",
    "        break"
   ]
  },
  {
   "cell_type": "code",
   "execution_count": null,
   "id": "shaped-third",
   "metadata": {},
   "outputs": [],
   "source": []
  }
 ],
 "metadata": {
  "kernelspec": {
   "display_name": "Python 3",
   "language": "python",
   "name": "python3"
  },
  "language_info": {
   "codemirror_mode": {
    "name": "ipython",
    "version": 3
   },
   "file_extension": ".py",
   "mimetype": "text/x-python",
   "name": "python",
   "nbconvert_exporter": "python",
   "pygments_lexer": "ipython3",
   "version": "3.9.2"
  }
 },
 "nbformat": 4,
 "nbformat_minor": 5
}
